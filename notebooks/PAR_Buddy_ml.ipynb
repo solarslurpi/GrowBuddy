{
  "nbformat": 4,
  "nbformat_minor": 0,
  "metadata": {
    "colab": {
      "name": "PAR_Buddy_ml.ipynb",
      "provenance": [],
      "authorship_tag": "ABX9TyMjLbwRdydGhcBi0VoYPG7N",
      "include_colab_link": true
    },
    "kernelspec": {
      "name": "python3",
      "display_name": "Python 3"
    },
    "language_info": {
      "name": "python"
    }
  },
  "cells": [
    {
      "cell_type": "markdown",
      "metadata": {
        "id": "view-in-github",
        "colab_type": "text"
      },
      "source": [
        "<a href=\"https://colab.research.google.com/github/solarslurpi/GrowBuddy/blob/main/notebooks/PAR_Buddy_ml.ipynb\" target=\"_parent\"><img src=\"https://colab.research.google.com/assets/colab-badge.svg\" alt=\"Open In Colab\"/></a>"
      ]
    },
    {
      "cell_type": "markdown",
      "source": [
        "# Using Machine Learning to Calibrate PAR Buddy"
      ],
      "metadata": {
        "id": "Zi7cRJCPRz3r"
      }
    },
    {
      "cell_type": "markdown",
      "source": [
        "__Please send feedback to happyday.github@gmail.com__\n",
        "\n",
        "- [More detail on the PAR Buddy Project](https://github.com/solarslurpi/GrowBuddy/blob/main/pages/PAR_Buddy.md)\n",
        "\n",
        "- [Similar exploration using Multiple Linear Regression](https://github.com/solarslurpi/GrowBuddy/blob/main/notebooks/PAR_Buddy_mlr.ipynb)"
      ],
      "metadata": {
        "id": "9VNh2U7VR66j"
      }
    },
    {
      "cell_type": "markdown",
      "source": [
        "# License"
      ],
      "metadata": {
        "id": "a1mZm9WvR-9U"
      }
    },
    {
      "cell_type": "markdown",
      "source": [
        "##### Copyright 2022 Margaret Johnson.\n",
        "\n",
        "\n",
        "MIT License\n",
        "\n",
        "Copyright (c) 2022 Margaret Johnson\n",
        "\n",
        "Permission is hereby granted, free of charge, to any person obtaining a copy\n",
        "of this software and associated documentation files (the \"Software\"), to deal\n",
        "in the Software without restriction, including without limitation the rights\n",
        "to use, copy, modify, merge, publish, distribute, sublicense, and/or sell\n",
        "copies of the Software, and to permit persons to whom the Software is\n",
        "furnished to do so, subject to the following conditions:\n",
        "\n",
        "The above copyright notice and this permission notice shall be included in all\n",
        "copies or substantial portions of the Software.\n",
        "\n",
        "THE SOFTWARE IS PROVIDED \"AS IS\", WITHOUT WARRANTY OF ANY KIND, EXPRESS OR\n",
        "IMPLIED, INCLUDING BUT NOT LIMITED TO THE WARRANTIES OF MERCHANTABILITY,\n",
        "FITNESS FOR A PARTICULAR PURPOSE AND NONINFRINGEMENT. IN NO EVENT SHALL THE\n",
        "AUTHORS OR COPYRIGHT HOLDERS BE LIABLE FOR ANY CLAIM, DAMAGES OR OTHER\n",
        "LIABILITY, WHETHER IN AN ACTION OF CONTRACT, TORT OR OTHERWISE, ARISING FROM,\n",
        "OUT OF OR IN CONNECTION WITH THE SOFTWARE OR THE USE OR OTHER DEALINGS IN THE\n",
        "SOFTWARE."
      ],
      "metadata": {
        "id": "a9NCmNAZSiHt"
      }
    },
    {
      "cell_type": "markdown",
      "source": [
        "# Hello and Welcome!"
      ],
      "metadata": {
        "id": "_XIbgf0JTBqv"
      }
    },
    {
      "cell_type": "markdown",
      "source": [
        "[More detail on the PAR Buddy Project](https://github.com/solarslurpi/GrowBuddy/blob/main/pages/PAR_Buddy.md)\n",
        "\n",
        "The [Multiple Linear Regression notebook](https://github.com/solarslurpi/GrowBuddy/blob/main/notebooks/PAR_Buddy_mlr.ipynb) showed us the AS7341 can be used as a PAR meter for indoor LED level adjustment.  It is by no means as accurate as a meter like the Apogee mq-500.  However, it is \"good enough\" for an indoor grower like me who uses a PAR meter mostly to adjust the height of the LEDs from a canopy of leaves.\n",
        "\n",
        "In this notebook, I use the same data (specifically the readings_white samples) to explore a regression analysis using machine learning.\n",
        "\n",
        "My interest is in exploring the technique.  My interest is not exploring the different results for the three different LED systems.  For this reason, I will only be using the readings_white samples.\n"
      ],
      "metadata": {
        "id": "WlPYksEzTHR5"
      }
    },
    {
      "cell_type": "markdown",
      "source": [
        "#  Conclusions"
      ],
      "metadata": {
        "id": "U6GxmUm0UJQn"
      }
    },
    {
      "cell_type": "markdown",
      "source": [
        "| Method | RMSE | r2|\n",
        "|------|-----|----|\n",
        "| MLR | 16.9 | 0.996 |\n",
        "| ML | 125.5 | 0.951 |\n",
        "\n",
        "- \"burple_red\" samples were not used.  I decided not to include them because the visible spectrum channels recorded by the AS7341 is focused more on blue - orange then on spectrum in the red light.\n",
        "- Multiple Linear Regression performed slightly better than machine learning.  Certainly, the machine learning model could be improved since the model I used lacks understanding of what the heck a good model is.\n",
        "- Running this notebook several times pointed to a variability in the RMSE between 60 and 140.  I assume this is due to the random picking of training and testing samples.  I believe testing with more data should decrease this variability.\n",
        "\n"
      ],
      "metadata": {
        "id": "4lKHQUgBUOkZ"
      }
    },
    {
      "cell_type": "markdown",
      "source": [
        "# Import Libraries"
      ],
      "metadata": {
        "id": "kfDRl4_nWFns"
      }
    },
    {
      "cell_type": "code",
      "source": [
        "import pandas as pd\n",
        "import numpy as np\n",
        "import matplotlib.pyplot as plt\n",
        "import seaborn as sns"
      ],
      "metadata": {
        "id": "eE6I7e0rWImI"
      },
      "execution_count": 1,
      "outputs": []
    },
    {
      "cell_type": "markdown",
      "source": [
        "# Load readings_white Samples"
      ],
      "metadata": {
        "id": "81GeHNMoWOwA"
      }
    },
    {
      "cell_type": "code",
      "source": [
        "# Load readings from \"white\" LEDs\n",
        "readings_white1 = pd.read_csv('https://raw.githubusercontent.com/solarslurpi/GrowBuddy/main/data/white_02052022.csv')\n",
        "readings_white2 = pd.read_csv('https://raw.githubusercontent.com/solarslurpi/GrowBuddy/main/data/white_02092022.csv')\n",
        "readings_white3 = pd.read_csv('https://raw.githubusercontent.com/solarslurpi/GrowBuddy/main/data/white_02142022.csv')\n",
        "readings_burple1 = pd.read_csv('https://raw.githubusercontent.com/solarslurpi/GrowBuddy/main/data/burple_02072022.csv')\n",
        "readings_burple2 = pd.read_csv('https://raw.githubusercontent.com/solarslurpi/GrowBuddy/main/data/burple_02112022.csv')\n",
        "readings = pd.concat([readings_white1,readings_white2,readings_white3,readings_burple1,readings_burple2],sort=False,ignore_index=True)\n",
        "readings.head()"
      ],
      "metadata": {
        "colab": {
          "base_uri": "https://localhost:8080/",
          "height": 206
        },
        "id": "ZWl3zWJHWSYA",
        "outputId": "b2c903c6-c063-4463-a249-d21b67cca5bb"
      },
      "execution_count": 2,
      "outputs": [
        {
          "output_type": "execute_result",
          "data": {
            "text/html": [
              "\n",
              "  <div id=\"df-7e847e41-3dcc-41b1-9f6f-670bcf510d3a\">\n",
              "    <div class=\"colab-df-container\">\n",
              "      <div>\n",
              "<style scoped>\n",
              "    .dataframe tbody tr th:only-of-type {\n",
              "        vertical-align: middle;\n",
              "    }\n",
              "\n",
              "    .dataframe tbody tr th {\n",
              "        vertical-align: top;\n",
              "    }\n",
              "\n",
              "    .dataframe thead th {\n",
              "        text-align: right;\n",
              "    }\n",
              "</style>\n",
              "<table border=\"1\" class=\"dataframe\">\n",
              "  <thead>\n",
              "    <tr style=\"text-align: right;\">\n",
              "      <th></th>\n",
              "      <th>PPFD</th>\n",
              "      <th>415</th>\n",
              "      <th>445</th>\n",
              "      <th>480</th>\n",
              "      <th>515</th>\n",
              "      <th>555</th>\n",
              "      <th>590</th>\n",
              "      <th>630</th>\n",
              "      <th>680</th>\n",
              "    </tr>\n",
              "  </thead>\n",
              "  <tbody>\n",
              "    <tr>\n",
              "      <th>0</th>\n",
              "      <td>40</td>\n",
              "      <td>60</td>\n",
              "      <td>282</td>\n",
              "      <td>274</td>\n",
              "      <td>438</td>\n",
              "      <td>659</td>\n",
              "      <td>859</td>\n",
              "      <td>953</td>\n",
              "      <td>465</td>\n",
              "    </tr>\n",
              "    <tr>\n",
              "      <th>1</th>\n",
              "      <td>59</td>\n",
              "      <td>86</td>\n",
              "      <td>404</td>\n",
              "      <td>387</td>\n",
              "      <td>624</td>\n",
              "      <td>939</td>\n",
              "      <td>1219</td>\n",
              "      <td>1357</td>\n",
              "      <td>663</td>\n",
              "    </tr>\n",
              "    <tr>\n",
              "      <th>2</th>\n",
              "      <td>88</td>\n",
              "      <td>127</td>\n",
              "      <td>599</td>\n",
              "      <td>563</td>\n",
              "      <td>919</td>\n",
              "      <td>1384</td>\n",
              "      <td>1791</td>\n",
              "      <td>1998</td>\n",
              "      <td>977</td>\n",
              "    </tr>\n",
              "    <tr>\n",
              "      <th>3</th>\n",
              "      <td>117</td>\n",
              "      <td>170</td>\n",
              "      <td>803</td>\n",
              "      <td>743</td>\n",
              "      <td>1225</td>\n",
              "      <td>1847</td>\n",
              "      <td>2383</td>\n",
              "      <td>2662</td>\n",
              "      <td>1304</td>\n",
              "    </tr>\n",
              "    <tr>\n",
              "      <th>4</th>\n",
              "      <td>144</td>\n",
              "      <td>209</td>\n",
              "      <td>984</td>\n",
              "      <td>902</td>\n",
              "      <td>1495</td>\n",
              "      <td>2254</td>\n",
              "      <td>2901</td>\n",
              "      <td>3240</td>\n",
              "      <td>1591</td>\n",
              "    </tr>\n",
              "  </tbody>\n",
              "</table>\n",
              "</div>\n",
              "      <button class=\"colab-df-convert\" onclick=\"convertToInteractive('df-7e847e41-3dcc-41b1-9f6f-670bcf510d3a')\"\n",
              "              title=\"Convert this dataframe to an interactive table.\"\n",
              "              style=\"display:none;\">\n",
              "        \n",
              "  <svg xmlns=\"http://www.w3.org/2000/svg\" height=\"24px\"viewBox=\"0 0 24 24\"\n",
              "       width=\"24px\">\n",
              "    <path d=\"M0 0h24v24H0V0z\" fill=\"none\"/>\n",
              "    <path d=\"M18.56 5.44l.94 2.06.94-2.06 2.06-.94-2.06-.94-.94-2.06-.94 2.06-2.06.94zm-11 1L8.5 8.5l.94-2.06 2.06-.94-2.06-.94L8.5 2.5l-.94 2.06-2.06.94zm10 10l.94 2.06.94-2.06 2.06-.94-2.06-.94-.94-2.06-.94 2.06-2.06.94z\"/><path d=\"M17.41 7.96l-1.37-1.37c-.4-.4-.92-.59-1.43-.59-.52 0-1.04.2-1.43.59L10.3 9.45l-7.72 7.72c-.78.78-.78 2.05 0 2.83L4 21.41c.39.39.9.59 1.41.59.51 0 1.02-.2 1.41-.59l7.78-7.78 2.81-2.81c.8-.78.8-2.07 0-2.86zM5.41 20L4 18.59l7.72-7.72 1.47 1.35L5.41 20z\"/>\n",
              "  </svg>\n",
              "      </button>\n",
              "      \n",
              "  <style>\n",
              "    .colab-df-container {\n",
              "      display:flex;\n",
              "      flex-wrap:wrap;\n",
              "      gap: 12px;\n",
              "    }\n",
              "\n",
              "    .colab-df-convert {\n",
              "      background-color: #E8F0FE;\n",
              "      border: none;\n",
              "      border-radius: 50%;\n",
              "      cursor: pointer;\n",
              "      display: none;\n",
              "      fill: #1967D2;\n",
              "      height: 32px;\n",
              "      padding: 0 0 0 0;\n",
              "      width: 32px;\n",
              "    }\n",
              "\n",
              "    .colab-df-convert:hover {\n",
              "      background-color: #E2EBFA;\n",
              "      box-shadow: 0px 1px 2px rgba(60, 64, 67, 0.3), 0px 1px 3px 1px rgba(60, 64, 67, 0.15);\n",
              "      fill: #174EA6;\n",
              "    }\n",
              "\n",
              "    [theme=dark] .colab-df-convert {\n",
              "      background-color: #3B4455;\n",
              "      fill: #D2E3FC;\n",
              "    }\n",
              "\n",
              "    [theme=dark] .colab-df-convert:hover {\n",
              "      background-color: #434B5C;\n",
              "      box-shadow: 0px 1px 3px 1px rgba(0, 0, 0, 0.15);\n",
              "      filter: drop-shadow(0px 1px 2px rgba(0, 0, 0, 0.3));\n",
              "      fill: #FFFFFF;\n",
              "    }\n",
              "  </style>\n",
              "\n",
              "      <script>\n",
              "        const buttonEl =\n",
              "          document.querySelector('#df-7e847e41-3dcc-41b1-9f6f-670bcf510d3a button.colab-df-convert');\n",
              "        buttonEl.style.display =\n",
              "          google.colab.kernel.accessAllowed ? 'block' : 'none';\n",
              "\n",
              "        async function convertToInteractive(key) {\n",
              "          const element = document.querySelector('#df-7e847e41-3dcc-41b1-9f6f-670bcf510d3a');\n",
              "          const dataTable =\n",
              "            await google.colab.kernel.invokeFunction('convertToInteractive',\n",
              "                                                     [key], {});\n",
              "          if (!dataTable) return;\n",
              "\n",
              "          const docLinkHtml = 'Like what you see? Visit the ' +\n",
              "            '<a target=\"_blank\" href=https://colab.research.google.com/notebooks/data_table.ipynb>data table notebook</a>'\n",
              "            + ' to learn more about interactive tables.';\n",
              "          element.innerHTML = '';\n",
              "          dataTable['output_type'] = 'display_data';\n",
              "          await google.colab.output.renderOutput(dataTable, element);\n",
              "          const docLink = document.createElement('div');\n",
              "          docLink.innerHTML = docLinkHtml;\n",
              "          element.appendChild(docLink);\n",
              "        }\n",
              "      </script>\n",
              "    </div>\n",
              "  </div>\n",
              "  "
            ],
            "text/plain": [
              "   PPFD  415  445  480   515   555   590   630   680\n",
              "0    40   60  282  274   438   659   859   953   465\n",
              "1    59   86  404  387   624   939  1219  1357   663\n",
              "2    88  127  599  563   919  1384  1791  1998   977\n",
              "3   117  170  803  743  1225  1847  2383  2662  1304\n",
              "4   144  209  984  902  1495  2254  2901  3240  1591"
            ]
          },
          "metadata": {},
          "execution_count": 2
        }
      ]
    },
    {
      "cell_type": "code",
      "source": [
        "readings.info()"
      ],
      "metadata": {
        "id": "kzt_lwtvjmU7",
        "outputId": "ef997a6a-c53d-494d-d15d-b59328bf15d4",
        "colab": {
          "base_uri": "https://localhost:8080/"
        }
      },
      "execution_count": 3,
      "outputs": [
        {
          "output_type": "stream",
          "name": "stdout",
          "text": [
            "<class 'pandas.core.frame.DataFrame'>\n",
            "RangeIndex: 117 entries, 0 to 116\n",
            "Data columns (total 9 columns):\n",
            " #   Column  Non-Null Count  Dtype\n",
            "---  ------  --------------  -----\n",
            " 0   PPFD    117 non-null    int64\n",
            " 1   415     117 non-null    int64\n",
            " 2   445     117 non-null    int64\n",
            " 3   480     117 non-null    int64\n",
            " 4   515     117 non-null    int64\n",
            " 5   555     117 non-null    int64\n",
            " 6   590     117 non-null    int64\n",
            " 7   630     117 non-null    int64\n",
            " 8   680     117 non-null    int64\n",
            "dtypes: int64(9)\n",
            "memory usage: 8.4 KB\n"
          ]
        }
      ]
    },
    {
      "cell_type": "markdown",
      "source": [
        "# Visualize"
      ],
      "metadata": {
        "id": "73K2OO6XWZM0"
      }
    },
    {
      "cell_type": "markdown",
      "source": [
        "Please see the visualization of readings_white and the other samples in the [MLR notebook](https://github.com/solarslurpi/GrowBuddy/blob/main/notebooks/PAR_Buddy_mlr.ipynb)"
      ],
      "metadata": {
        "id": "dmizu51wWcmg"
      }
    },
    {
      "cell_type": "markdown",
      "source": [
        "# CREATE TESTING AND TRAINING DATASET (80% Train / 20% Test)"
      ],
      "metadata": {
        "id": "SGi-HEjRW2JI"
      }
    },
    {
      "cell_type": "code",
      "source": [
        "y = readings['PPFD']\n",
        "x = readings.iloc[:,1:]\n",
        "print(f'shape of x: {x.shape} shape of y: {y.shape}')"
      ],
      "metadata": {
        "colab": {
          "base_uri": "https://localhost:8080/"
        },
        "id": "An65m5XSW5jS",
        "outputId": "33e3a535-e5cd-44bd-fb43-39b34732cb0b"
      },
      "execution_count": 4,
      "outputs": [
        {
          "output_type": "stream",
          "name": "stdout",
          "text": [
            "shape of x: (117, 8) shape of y: (117,)\n"
          ]
        }
      ]
    },
    {
      "cell_type": "markdown",
      "source": [
        "# NORMALIZE THE DATA"
      ],
      "metadata": {
        "id": "9nLLzzqVXFUH"
      }
    },
    {
      "cell_type": "code",
      "source": [
        "from sklearn.preprocessing import MinMaxScaler\n",
        "scaler = MinMaxScaler()\n",
        "x_scaled = scaler.fit_transform(x)\n",
        "y = y.values.reshape(-1,1)\n",
        "y_scaled = scaler.fit_transform(y)"
      ],
      "metadata": {
        "id": "PtAVOOb5W84L"
      },
      "execution_count": 5,
      "outputs": []
    },
    {
      "cell_type": "markdown",
      "source": [
        "# SPLIT DATA INTO TRAIN AND TEST"
      ],
      "metadata": {
        "id": "mKU2gDk3Xp8i"
      }
    },
    {
      "cell_type": "code",
      "source": [
        "from sklearn.model_selection import train_test_split\n",
        "x_train,x_test,y_train,y_test = train_test_split(x_scaled,y_scaled,test_size=0.2)"
      ],
      "metadata": {
        "id": "-Ek8naCRXJ2f"
      },
      "execution_count": 6,
      "outputs": []
    },
    {
      "cell_type": "code",
      "source": [
        "print(f\"There are {len(x_train)+len(x_test)} total samples. {len(x_train)} samples are in the training set and {len(x_test)} samples are in the test set.\")"
      ],
      "metadata": {
        "colab": {
          "base_uri": "https://localhost:8080/"
        },
        "id": "A3t1YLesXOMb",
        "outputId": "ff72707b-6e58-43e1-d137-759c654e5b9b"
      },
      "execution_count": 7,
      "outputs": [
        {
          "output_type": "stream",
          "name": "stdout",
          "text": [
            "There are 117 total samples. 93 samples are in the training set and 24 samples are in the test set.\n"
          ]
        }
      ]
    },
    {
      "cell_type": "markdown",
      "source": [
        "# TRAIN MODEL"
      ],
      "metadata": {
        "id": "d22FdIbZXvDX"
      }
    },
    {
      "cell_type": "code",
      "source": [
        "import tensorflow.keras\n",
        "from keras.models import Sequential\n",
        "from keras.layers import Dense\n",
        "\n",
        "model = Sequential()\n",
        "model.add(Dense(50,input_dim=8, activation='relu'))\n",
        "model.add(Dense(100,activation='relu'))\n",
        "#model.add(Dense(100,activation='relu'))\n",
        "model.add(Dense(1,activation='linear'))\n",
        "model.summary()"
      ],
      "metadata": {
        "colab": {
          "base_uri": "https://localhost:8080/"
        },
        "id": "5DmgmuOOX799",
        "outputId": "9e20328b-cae4-4318-c11c-1c8fec8932f7"
      },
      "execution_count": 8,
      "outputs": [
        {
          "output_type": "stream",
          "name": "stdout",
          "text": [
            "Model: \"sequential\"\n",
            "_________________________________________________________________\n",
            " Layer (type)                Output Shape              Param #   \n",
            "=================================================================\n",
            " dense (Dense)               (None, 50)                450       \n",
            "                                                                 \n",
            " dense_1 (Dense)             (None, 100)               5100      \n",
            "                                                                 \n",
            " dense_2 (Dense)             (None, 1)                 101       \n",
            "                                                                 \n",
            "=================================================================\n",
            "Total params: 5,651\n",
            "Trainable params: 5,651\n",
            "Non-trainable params: 0\n",
            "_________________________________________________________________\n"
          ]
        }
      ]
    },
    {
      "cell_type": "code",
      "source": [
        "model.compile(optimizer='Adam',loss='mean_squared_error')"
      ],
      "metadata": {
        "id": "___7OWq5X_2K"
      },
      "execution_count": 9,
      "outputs": []
    },
    {
      "cell_type": "code",
      "source": [
        "epochs_hist = model.fit(x_train,y_train,epochs=100,batch_size=50,validation_split=0.2)"
      ],
      "metadata": {
        "colab": {
          "base_uri": "https://localhost:8080/"
        },
        "id": "wip1bVrIYDLx",
        "outputId": "bf2350dc-87d4-45b3-c5ce-5784c3816d9b"
      },
      "execution_count": 10,
      "outputs": [
        {
          "output_type": "stream",
          "name": "stdout",
          "text": [
            "Epoch 1/100\n",
            "2/2 [==============================] - 2s 435ms/step - loss: 0.0692 - val_loss: 0.0383\n",
            "Epoch 2/100\n",
            "2/2 [==============================] - 0s 43ms/step - loss: 0.0331 - val_loss: 0.0152\n",
            "Epoch 3/100\n",
            "2/2 [==============================] - 0s 51ms/step - loss: 0.0131 - val_loss: 0.0057\n",
            "Epoch 4/100\n",
            "2/2 [==============================] - 0s 62ms/step - loss: 0.0046 - val_loss: 0.0055\n",
            "Epoch 5/100\n",
            "2/2 [==============================] - 0s 61ms/step - loss: 0.0054 - val_loss: 0.0089\n",
            "Epoch 6/100\n",
            "2/2 [==============================] - 0s 105ms/step - loss: 0.0087 - val_loss: 0.0103\n",
            "Epoch 7/100\n",
            "2/2 [==============================] - 0s 56ms/step - loss: 0.0096 - val_loss: 0.0088\n",
            "Epoch 8/100\n",
            "2/2 [==============================] - 0s 48ms/step - loss: 0.0079 - val_loss: 0.0060\n",
            "Epoch 9/100\n",
            "2/2 [==============================] - 0s 45ms/step - loss: 0.0050 - val_loss: 0.0036\n",
            "Epoch 10/100\n",
            "2/2 [==============================] - 0s 58ms/step - loss: 0.0029 - val_loss: 0.0026\n",
            "Epoch 11/100\n",
            "2/2 [==============================] - 0s 85ms/step - loss: 0.0021 - val_loss: 0.0029\n",
            "Epoch 12/100\n",
            "2/2 [==============================] - 0s 99ms/step - loss: 0.0024 - val_loss: 0.0036\n",
            "Epoch 13/100\n",
            "2/2 [==============================] - 0s 59ms/step - loss: 0.0030 - val_loss: 0.0039\n",
            "Epoch 14/100\n",
            "2/2 [==============================] - 0s 67ms/step - loss: 0.0033 - val_loss: 0.0036\n",
            "Epoch 15/100\n",
            "2/2 [==============================] - 0s 48ms/step - loss: 0.0029 - val_loss: 0.0027\n",
            "Epoch 16/100\n",
            "2/2 [==============================] - 0s 63ms/step - loss: 0.0022 - val_loss: 0.0019\n",
            "Epoch 17/100\n",
            "2/2 [==============================] - 0s 55ms/step - loss: 0.0016 - val_loss: 0.0014\n",
            "Epoch 18/100\n",
            "2/2 [==============================] - 0s 61ms/step - loss: 0.0013 - val_loss: 0.0013\n",
            "Epoch 19/100\n",
            "2/2 [==============================] - 0s 38ms/step - loss: 0.0013 - val_loss: 0.0013\n",
            "Epoch 20/100\n",
            "2/2 [==============================] - 0s 51ms/step - loss: 0.0014 - val_loss: 0.0012\n",
            "Epoch 21/100\n",
            "2/2 [==============================] - 0s 39ms/step - loss: 0.0014 - val_loss: 0.0011\n",
            "Epoch 22/100\n",
            "2/2 [==============================] - 0s 40ms/step - loss: 0.0012 - val_loss: 9.6968e-04\n",
            "Epoch 23/100\n",
            "2/2 [==============================] - 0s 63ms/step - loss: 0.0011 - val_loss: 9.8589e-04\n",
            "Epoch 24/100\n",
            "2/2 [==============================] - 0s 59ms/step - loss: 0.0010 - val_loss: 0.0011\n",
            "Epoch 25/100\n",
            "2/2 [==============================] - 0s 44ms/step - loss: 0.0010 - val_loss: 0.0011\n",
            "Epoch 26/100\n",
            "2/2 [==============================] - 0s 44ms/step - loss: 9.8867e-04 - val_loss: 0.0010\n",
            "Epoch 27/100\n",
            "2/2 [==============================] - 0s 86ms/step - loss: 9.4021e-04 - val_loss: 9.3830e-04\n",
            "Epoch 28/100\n",
            "2/2 [==============================] - 0s 57ms/step - loss: 8.7929e-04 - val_loss: 9.1027e-04\n",
            "Epoch 29/100\n",
            "2/2 [==============================] - 0s 76ms/step - loss: 8.7333e-04 - val_loss: 8.9197e-04\n",
            "Epoch 30/100\n",
            "2/2 [==============================] - 0s 62ms/step - loss: 9.0859e-04 - val_loss: 8.7411e-04\n",
            "Epoch 31/100\n",
            "2/2 [==============================] - 0s 56ms/step - loss: 9.0475e-04 - val_loss: 8.4495e-04\n",
            "Epoch 32/100\n",
            "2/2 [==============================] - 0s 40ms/step - loss: 8.7109e-04 - val_loss: 8.1551e-04\n",
            "Epoch 33/100\n",
            "2/2 [==============================] - 0s 60ms/step - loss: 8.3562e-04 - val_loss: 7.9953e-04\n",
            "Epoch 34/100\n",
            "2/2 [==============================] - 0s 59ms/step - loss: 7.9553e-04 - val_loss: 7.9826e-04\n",
            "Epoch 35/100\n",
            "2/2 [==============================] - 0s 59ms/step - loss: 7.8582e-04 - val_loss: 7.8847e-04\n",
            "Epoch 36/100\n",
            "2/2 [==============================] - 0s 52ms/step - loss: 7.7279e-04 - val_loss: 7.5157e-04\n",
            "Epoch 37/100\n",
            "2/2 [==============================] - 0s 51ms/step - loss: 7.5393e-04 - val_loss: 7.0723e-04\n",
            "Epoch 38/100\n",
            "2/2 [==============================] - 0s 42ms/step - loss: 7.3602e-04 - val_loss: 6.7827e-04\n",
            "Epoch 39/100\n",
            "2/2 [==============================] - 0s 45ms/step - loss: 7.2294e-04 - val_loss: 6.6078e-04\n",
            "Epoch 40/100\n",
            "2/2 [==============================] - 0s 55ms/step - loss: 7.1001e-04 - val_loss: 6.5645e-04\n",
            "Epoch 41/100\n",
            "2/2 [==============================] - 0s 89ms/step - loss: 6.9839e-04 - val_loss: 6.6563e-04\n",
            "Epoch 42/100\n",
            "2/2 [==============================] - 0s 77ms/step - loss: 6.8351e-04 - val_loss: 6.5379e-04\n",
            "Epoch 43/100\n",
            "2/2 [==============================] - 0s 67ms/step - loss: 6.7011e-04 - val_loss: 6.3458e-04\n",
            "Epoch 44/100\n",
            "2/2 [==============================] - 0s 46ms/step - loss: 6.5203e-04 - val_loss: 6.2270e-04\n",
            "Epoch 45/100\n",
            "2/2 [==============================] - 0s 51ms/step - loss: 6.4634e-04 - val_loss: 6.1075e-04\n",
            "Epoch 46/100\n",
            "2/2 [==============================] - 0s 81ms/step - loss: 6.3238e-04 - val_loss: 5.7166e-04\n",
            "Epoch 47/100\n",
            "2/2 [==============================] - 0s 90ms/step - loss: 6.2068e-04 - val_loss: 5.4149e-04\n",
            "Epoch 48/100\n",
            "2/2 [==============================] - 0s 44ms/step - loss: 6.1109e-04 - val_loss: 5.2253e-04\n",
            "Epoch 49/100\n",
            "2/2 [==============================] - 0s 81ms/step - loss: 6.0156e-04 - val_loss: 5.1184e-04\n",
            "Epoch 50/100\n",
            "2/2 [==============================] - 0s 76ms/step - loss: 5.9706e-04 - val_loss: 5.0930e-04\n",
            "Epoch 51/100\n",
            "2/2 [==============================] - 0s 84ms/step - loss: 5.8957e-04 - val_loss: 5.2661e-04\n",
            "Epoch 52/100\n",
            "2/2 [==============================] - 0s 49ms/step - loss: 5.9731e-04 - val_loss: 5.1745e-04\n",
            "Epoch 53/100\n",
            "2/2 [==============================] - 0s 73ms/step - loss: 5.8757e-04 - val_loss: 5.1967e-04\n",
            "Epoch 54/100\n",
            "2/2 [==============================] - 0s 74ms/step - loss: 5.8819e-04 - val_loss: 5.1408e-04\n",
            "Epoch 55/100\n",
            "2/2 [==============================] - 0s 107ms/step - loss: 5.7139e-04 - val_loss: 4.6534e-04\n",
            "Epoch 56/100\n",
            "2/2 [==============================] - 0s 56ms/step - loss: 5.6287e-04 - val_loss: 4.3572e-04\n",
            "Epoch 57/100\n",
            "2/2 [==============================] - 0s 48ms/step - loss: 5.8402e-04 - val_loss: 4.2724e-04\n",
            "Epoch 58/100\n",
            "2/2 [==============================] - 0s 44ms/step - loss: 5.7060e-04 - val_loss: 4.4731e-04\n",
            "Epoch 59/100\n",
            "2/2 [==============================] - 0s 45ms/step - loss: 5.5003e-04 - val_loss: 4.7645e-04\n",
            "Epoch 60/100\n",
            "2/2 [==============================] - 0s 62ms/step - loss: 5.5760e-04 - val_loss: 4.7615e-04\n",
            "Epoch 61/100\n",
            "2/2 [==============================] - 0s 40ms/step - loss: 5.5451e-04 - val_loss: 4.3906e-04\n",
            "Epoch 62/100\n",
            "2/2 [==============================] - 0s 47ms/step - loss: 5.4262e-04 - val_loss: 4.0880e-04\n",
            "Epoch 63/100\n",
            "2/2 [==============================] - 0s 46ms/step - loss: 5.4470e-04 - val_loss: 3.9994e-04\n",
            "Epoch 64/100\n",
            "2/2 [==============================] - 0s 40ms/step - loss: 5.4721e-04 - val_loss: 4.0209e-04\n",
            "Epoch 65/100\n",
            "2/2 [==============================] - 0s 75ms/step - loss: 5.3452e-04 - val_loss: 4.0186e-04\n",
            "Epoch 66/100\n",
            "2/2 [==============================] - 0s 55ms/step - loss: 5.2452e-04 - val_loss: 3.9340e-04\n",
            "Epoch 67/100\n",
            "2/2 [==============================] - 0s 49ms/step - loss: 5.2270e-04 - val_loss: 3.7815e-04\n",
            "Epoch 68/100\n",
            "2/2 [==============================] - 0s 41ms/step - loss: 5.1765e-04 - val_loss: 3.7282e-04\n",
            "Epoch 69/100\n",
            "2/2 [==============================] - 0s 72ms/step - loss: 5.1863e-04 - val_loss: 3.7164e-04\n",
            "Epoch 70/100\n",
            "2/2 [==============================] - 0s 46ms/step - loss: 5.1610e-04 - val_loss: 3.4852e-04\n",
            "Epoch 71/100\n",
            "2/2 [==============================] - 0s 50ms/step - loss: 5.1368e-04 - val_loss: 3.4221e-04\n",
            "Epoch 72/100\n",
            "2/2 [==============================] - 0s 41ms/step - loss: 5.0756e-04 - val_loss: 3.5131e-04\n",
            "Epoch 73/100\n",
            "2/2 [==============================] - 0s 73ms/step - loss: 5.2528e-04 - val_loss: 3.5531e-04\n",
            "Epoch 74/100\n",
            "2/2 [==============================] - 0s 39ms/step - loss: 5.0556e-04 - val_loss: 3.3234e-04\n",
            "Epoch 75/100\n",
            "2/2 [==============================] - 0s 42ms/step - loss: 5.1251e-04 - val_loss: 3.3624e-04\n",
            "Epoch 76/100\n",
            "2/2 [==============================] - 0s 54ms/step - loss: 4.9896e-04 - val_loss: 3.7063e-04\n",
            "Epoch 77/100\n",
            "2/2 [==============================] - 0s 56ms/step - loss: 5.2145e-04 - val_loss: 4.0367e-04\n",
            "Epoch 78/100\n",
            "2/2 [==============================] - 0s 48ms/step - loss: 5.0868e-04 - val_loss: 3.5322e-04\n",
            "Epoch 79/100\n",
            "2/2 [==============================] - 0s 78ms/step - loss: 4.9174e-04 - val_loss: 3.2367e-04\n",
            "Epoch 80/100\n",
            "2/2 [==============================] - 0s 109ms/step - loss: 4.9656e-04 - val_loss: 3.1389e-04\n",
            "Epoch 81/100\n",
            "2/2 [==============================] - 0s 42ms/step - loss: 5.1550e-04 - val_loss: 3.1145e-04\n",
            "Epoch 82/100\n",
            "2/2 [==============================] - 0s 53ms/step - loss: 4.9634e-04 - val_loss: 3.2765e-04\n",
            "Epoch 83/100\n",
            "2/2 [==============================] - 0s 43ms/step - loss: 4.8677e-04 - val_loss: 3.8255e-04\n",
            "Epoch 84/100\n",
            "2/2 [==============================] - 0s 61ms/step - loss: 5.0549e-04 - val_loss: 3.7195e-04\n",
            "Epoch 85/100\n",
            "2/2 [==============================] - 0s 84ms/step - loss: 4.9235e-04 - val_loss: 3.1424e-04\n",
            "Epoch 86/100\n",
            "2/2 [==============================] - 0s 70ms/step - loss: 4.8195e-04 - val_loss: 2.9392e-04\n",
            "Epoch 87/100\n",
            "2/2 [==============================] - 0s 101ms/step - loss: 5.0013e-04 - val_loss: 2.9535e-04\n",
            "Epoch 88/100\n",
            "2/2 [==============================] - 0s 107ms/step - loss: 4.9282e-04 - val_loss: 3.1805e-04\n",
            "Epoch 89/100\n",
            "2/2 [==============================] - 0s 52ms/step - loss: 4.7491e-04 - val_loss: 3.6638e-04\n",
            "Epoch 90/100\n",
            "2/2 [==============================] - 0s 47ms/step - loss: 4.8876e-04 - val_loss: 3.9355e-04\n",
            "Epoch 91/100\n",
            "2/2 [==============================] - 0s 78ms/step - loss: 4.9652e-04 - val_loss: 3.5037e-04\n",
            "Epoch 92/100\n",
            "2/2 [==============================] - 0s 63ms/step - loss: 4.7149e-04 - val_loss: 2.9896e-04\n",
            "Epoch 93/100\n",
            "2/2 [==============================] - 0s 55ms/step - loss: 4.8564e-04 - val_loss: 2.8711e-04\n",
            "Epoch 94/100\n",
            "2/2 [==============================] - 0s 76ms/step - loss: 5.1040e-04 - val_loss: 2.8950e-04\n",
            "Epoch 95/100\n",
            "2/2 [==============================] - 0s 111ms/step - loss: 4.7176e-04 - val_loss: 3.7275e-04\n",
            "Epoch 96/100\n",
            "2/2 [==============================] - 0s 41ms/step - loss: 4.9568e-04 - val_loss: 4.1284e-04\n",
            "Epoch 97/100\n",
            "2/2 [==============================] - 0s 42ms/step - loss: 5.1597e-04 - val_loss: 3.3851e-04\n",
            "Epoch 98/100\n",
            "2/2 [==============================] - 0s 51ms/step - loss: 4.8747e-04 - val_loss: 2.8492e-04\n",
            "Epoch 99/100\n",
            "2/2 [==============================] - 0s 76ms/step - loss: 4.8139e-04 - val_loss: 2.8379e-04\n",
            "Epoch 100/100\n",
            "2/2 [==============================] - 0s 42ms/step - loss: 4.7883e-04 - val_loss: 3.0512e-04\n"
          ]
        }
      ]
    },
    {
      "cell_type": "markdown",
      "source": [
        "# EVALUATE MODEL"
      ],
      "metadata": {
        "id": "t0ipUXvRYHMb"
      }
    },
    {
      "cell_type": "code",
      "source": [
        "epochs_hist.history.keys()\n",
        "plt.plot(epochs_hist.history['loss'])\n",
        "plt.plot(epochs_hist.history['val_loss'])\n",
        "plt.title('Model Loss Progress During Training')\n",
        "plt.xlabel('Epoch')\n",
        "plt.ylabel('training and validation loss')\n",
        "plt.legend(['Training Loss','Validation Loss'])"
      ],
      "metadata": {
        "colab": {
          "base_uri": "https://localhost:8080/",
          "height": 313
        },
        "id": "CTFTbxZmYKRp",
        "outputId": "1a8a54d5-681a-4d53-ba77-fee2d822b9dc"
      },
      "execution_count": 11,
      "outputs": [
        {
          "output_type": "execute_result",
          "data": {
            "text/plain": [
              "<matplotlib.legend.Legend at 0x7fbd37ee52d0>"
            ]
          },
          "metadata": {},
          "execution_count": 11
        },
        {
          "output_type": "display_data",
          "data": {
            "image/png": "[encoded data removed]",
            "text/plain": [
              "<Figure size 432x288 with 1 Axes>"
            ]
          },
          "metadata": {
            "needs_background": "light"
          }
        }
      ]
    },
    {
      "cell_type": "code",
      "source": [
        "y_predict = model.predict(x_test)"
      ],
      "metadata": {
        "id": "CVfWywjWYWel"
      },
      "execution_count": 12,
      "outputs": []
    },
    {
      "cell_type": "code",
      "source": [
        "x_test_orig = scaler.inverse_transform(x_test)\n",
        "y_test_orig = scaler.inverse_transform(y_test)\n",
        "y_predict_orig = scaler.inverse_transform(y_predict)"
      ],
      "metadata": {
        "id": "Zg5yY54hZwvT"
      },
      "execution_count": 13,
      "outputs": []
    },
    {
      "cell_type": "code",
      "source": [
        "plt.plot(y_test_orig,y_predict_orig,'*',color='g')\n",
        "plt.xlabel('Model Predictions')\n",
        "plt.ylabel('True Values')"
      ],
      "metadata": {
        "colab": {
          "base_uri": "https://localhost:8080/",
          "height": 296
        },
        "id": "LM47E6SoYXtV",
        "outputId": "79e32881-b79a-4261-88f0-d344ce66a2e8"
      },
      "execution_count": 14,
      "outputs": [
        {
          "output_type": "execute_result",
          "data": {
            "text/plain": [
              "Text(0, 0.5, 'True Values')"
            ]
          },
          "metadata": {},
          "execution_count": 14
        },
        {
          "output_type": "display_data",
          "data": {
            "image/png": "[encoded data removed]",
            "text/plain": [
              "<Figure size 432x288 with 1 Axes>"
            ]
          },
          "metadata": {
            "needs_background": "light"
          }
        }
      ]
    },
    {
      "cell_type": "code",
      "source": [
        "from sklearn.metrics import r2_score,mean_absolute_error,mean_squared_error\n",
        "from math import sqrt\n",
        "# r2 is the percentage of dependent variable variation that the (linear) model explains. 0% means there is\n",
        "# no relationship. 100% means a perfect relationship.\n",
        "y_test_orig \n",
        "r2 = r2_score(y_test_orig,y_predict_orig)\n",
        "# Root Mean Square Error (RMSE) is the standard deviation of the residuals (prediction errors). \n",
        "# It tells you how concentrated the data is around the line of best fit.\n",
        "# RMSE units is the same as PPFD units, so they are easy to interpret.\n",
        "RMSE = float(format(np.sqrt(mean_squared_error(y_test_orig,y_predict_orig)),'.3F'))\n",
        "\n",
        "print('RMSE = ',RMSE,'\\nr2 = ',r2)"
      ],
      "metadata": {
        "colab": {
          "base_uri": "https://localhost:8080/"
        },
        "id": "VNXXR3CtZYuU",
        "outputId": "10e7d9fb-90e5-4ec5-e699-86670527e357"
      },
      "execution_count": 15,
      "outputs": [
        {
          "output_type": "stream",
          "name": "stdout",
          "text": [
            "RMSE =  125.464 \n",
            "r2 =  0.9510313975927182\n"
          ]
        }
      ]
    }
  ]
}