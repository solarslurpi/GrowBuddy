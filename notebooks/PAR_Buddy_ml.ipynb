{
  "nbformat": 4,
  "nbformat_minor": 0,
  "metadata": {
    "colab": {
      "name": "PAR_Buddy_ml.ipynb",
      "provenance": [],
      "authorship_tag": "ABX9TyOwEGK8g2kpKllYFjmzlBuU",
      "include_colab_link": true
    },
    "kernelspec": {
      "name": "python3",
      "display_name": "Python 3"
    },
    "language_info": {
      "name": "python"
    }
  },
  "cells": [
    {
      "cell_type": "markdown",
      "metadata": {
        "id": "view-in-github",
        "colab_type": "text"
      },
      "source": [
        "<a href=\"https://colab.research.google.com/github/solarslurpi/GrowBuddy/blob/main/notebooks/PAR_Buddy_ml.ipynb\" target=\"_parent\"><img src=\"https://colab.research.google.com/assets/colab-badge.svg\" alt=\"Open In Colab\"/></a>"
      ]
    },
    {
      "cell_type": "markdown",
      "source": [
        "# Using Machine Learning to Calibrate PAR Buddy"
      ],
      "metadata": {
        "id": "Zi7cRJCPRz3r"
      }
    },
    {
      "cell_type": "markdown",
      "source": [
        "- [More detail on the PAR Buddy Project](https://github.com/solarslurpi/GrowBuddy/blob/main/pages/PAR_Buddy.md)\n",
        "\n",
        "- [Similar exploration using Multiple Linear Regression](https://github.com/solarslurpi/GrowBuddy/blob/main/notebooks/PAR_Buddy_mlr.ipynb)"
      ],
      "metadata": {
        "id": "9VNh2U7VR66j"
      }
    },
    {
      "cell_type": "markdown",
      "source": [
        "# License"
      ],
      "metadata": {
        "id": "a1mZm9WvR-9U"
      }
    }
  ]
}