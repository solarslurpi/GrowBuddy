{
  "nbformat": 4,
  "nbformat_minor": 0,
  "metadata": {
    "colab": {
      "name": "PAR_Buddy_ml.ipynb",
      "provenance": [],
      "authorship_tag": "ABX9TyN6uJHHMEMMLhGz+lQzOpx1",
      "include_colab_link": true
    },
    "kernelspec": {
      "name": "python3",
      "display_name": "Python 3"
    },
    "language_info": {
      "name": "python"
    }
  },
  "cells": [
    {
      "cell_type": "markdown",
      "metadata": {
        "id": "view-in-github",
        "colab_type": "text"
      },
      "source": [
        "<a href=\"https://colab.research.google.com/github/solarslurpi/GrowBuddy/blob/main/notebooks/PAR_Buddy_ml.ipynb\" target=\"_parent\"><img src=\"https://colab.research.google.com/assets/colab-badge.svg\" alt=\"Open In Colab\"/></a>"
      ]
    },
    {
      "cell_type": "markdown",
      "source": [
        "# Using Machine Learning to Calibrate PAR Buddy"
      ],
      "metadata": {
        "id": "Zi7cRJCPRz3r"
      }
    },
    {
      "cell_type": "markdown",
      "source": [
        "__Please send feedback to happyday.github@gmail.com__\n",
        "\n",
        "- [More detail on the PAR Buddy Project](https://github.com/solarslurpi/GrowBuddy/blob/main/pages/PAR_Buddy.md)\n",
        "\n",
        "- [Similar exploration using Multiple Linear Regression](https://github.com/solarslurpi/GrowBuddy/blob/main/notebooks/PAR_Buddy_mlr.ipynb)"
      ],
      "metadata": {
        "id": "9VNh2U7VR66j"
      }
    },
    {
      "cell_type": "markdown",
      "source": [
        "# License"
      ],
      "metadata": {
        "id": "a1mZm9WvR-9U"
      }
    },
    {
      "cell_type": "markdown",
      "source": [
        "##### Copyright 2022 Margaret Johnson.\n",
        "\n",
        "\n",
        "MIT License\n",
        "\n",
        "Copyright (c) 2022 Margaret Johnson\n",
        "\n",
        "Permission is hereby granted, free of charge, to any person obtaining a copy\n",
        "of this software and associated documentation files (the \"Software\"), to deal\n",
        "in the Software without restriction, including without limitation the rights\n",
        "to use, copy, modify, merge, publish, distribute, sublicense, and/or sell\n",
        "copies of the Software, and to permit persons to whom the Software is\n",
        "furnished to do so, subject to the following conditions:\n",
        "\n",
        "The above copyright notice and this permission notice shall be included in all\n",
        "copies or substantial portions of the Software.\n",
        "\n",
        "THE SOFTWARE IS PROVIDED \"AS IS\", WITHOUT WARRANTY OF ANY KIND, EXPRESS OR\n",
        "IMPLIED, INCLUDING BUT NOT LIMITED TO THE WARRANTIES OF MERCHANTABILITY,\n",
        "FITNESS FOR A PARTICULAR PURPOSE AND NONINFRINGEMENT. IN NO EVENT SHALL THE\n",
        "AUTHORS OR COPYRIGHT HOLDERS BE LIABLE FOR ANY CLAIM, DAMAGES OR OTHER\n",
        "LIABILITY, WHETHER IN AN ACTION OF CONTRACT, TORT OR OTHERWISE, ARISING FROM,\n",
        "OUT OF OR IN CONNECTION WITH THE SOFTWARE OR THE USE OR OTHER DEALINGS IN THE\n",
        "SOFTWARE."
      ],
      "metadata": {
        "id": "a9NCmNAZSiHt"
      }
    },
    {
      "cell_type": "markdown",
      "source": [
        "# Hello and Welcome!"
      ],
      "metadata": {
        "id": "_XIbgf0JTBqv"
      }
    },
    {
      "cell_type": "markdown",
      "source": [
        "[More detail on the PAR Buddy Project](https://github.com/solarslurpi/GrowBuddy/blob/main/pages/PAR_Buddy.md)\n",
        "\n",
        "The [Multiple Linear Regression notebook](https://github.com/solarslurpi/GrowBuddy/blob/main/notebooks/PAR_Buddy_mlr.ipynb) showed us the AS7341 can be used as a PAR meter for indoor LED level adjustment.  It is by no means as accurate as a meter like the Apogee mq-500.  However, it is \"good enough\" for an indoor grower like me who uses a PAR meter mostly to adjust the height of the LEDs from a canopy of leaves.\n",
        "\n",
        "In this notebook, I use the same data (specifically the readings_white samples) to explore a regression analysis using machine learning.\n",
        "\n",
        "My interest is in exploring the technique.  My interest is not exploring the different results for the three different LED systems.  For this reason, I will only be using the readings_white samples.\n"
      ],
      "metadata": {
        "id": "WlPYksEzTHR5"
      }
    },
    {
      "cell_type": "markdown",
      "source": [
        "#  Conclusions"
      ],
      "metadata": {
        "id": "U6GxmUm0UJQn"
      }
    },
    {
      "cell_type": "markdown",
      "source": [
        "| Method | RMSE | r2|\n",
        "|------|-----|----|\n",
        "| MLR | 16.9 | 0.996 |\n",
        "| ML | 135.5 | 0.956 |\n",
        "\n",
        "- 74 samples were used.  This is perhaps too small of a sample size.\n",
        "- Running this notebook several times pointed to a variability in the RMSE between 60 and 140.  I assume this is due to the random picking of training and testing samples.\n",
        "- Multiple Linear Regression performed slightly better than machine learning.  Certainly, the machine learning model could be improved since the model I used lacks understanding of what the heck a good model is.\n"
      ],
      "metadata": {
        "id": "4lKHQUgBUOkZ"
      }
    },
    {
      "cell_type": "markdown",
      "source": [
        "# Import Libraries"
      ],
      "metadata": {
        "id": "kfDRl4_nWFns"
      }
    },
    {
      "cell_type": "code",
      "source": [
        "import pandas as pd\n",
        "import numpy as np\n",
        "import matplotlib.pyplot as plt\n",
        "import seaborn as sns"
      ],
      "metadata": {
        "id": "eE6I7e0rWImI"
      },
      "execution_count": 57,
      "outputs": []
    },
    {
      "cell_type": "markdown",
      "source": [
        "# Load readings_white Samples"
      ],
      "metadata": {
        "id": "81GeHNMoWOwA"
      }
    },
    {
      "cell_type": "code",
      "source": [
        "# Load readings from \"white\" LEDs\n",
        "readings_white1 = pd.read_csv('https://raw.githubusercontent.com/solarslurpi/GrowBuddy/main/data/white_02052022.csv')\n",
        "readings_white2 = pd.read_csv('https://raw.githubusercontent.com/solarslurpi/GrowBuddy/main/data/white_02092022.csv')\n",
        "readings_white3 = pd.read_csv('https://raw.githubusercontent.com/solarslurpi/GrowBuddy/main/data/white_02142022.csv')\n",
        "readings_white = pd.concat([readings_white1,readings_white2,readings_white3],sort=False,ignore_index=True)\n",
        "readings_white.head()"
      ],
      "metadata": {
        "colab": {
          "base_uri": "https://localhost:8080/",
          "height": 206
        },
        "id": "ZWl3zWJHWSYA",
        "outputId": "7ecb6d16-3c65-4e25-e542-8f1dd2b5f670"
      },
      "execution_count": 58,
      "outputs": [
        {
          "output_type": "execute_result",
          "data": {
            "text/html": [
              "\n",
              "  <div id=\"df-ff592ee7-132c-4f57-9248-0fdab5b66d55\">\n",
              "    <div class=\"colab-df-container\">\n",
              "      <div>\n",
              "<style scoped>\n",
              "    .dataframe tbody tr th:only-of-type {\n",
              "        vertical-align: middle;\n",
              "    }\n",
              "\n",
              "    .dataframe tbody tr th {\n",
              "        vertical-align: top;\n",
              "    }\n",
              "\n",
              "    .dataframe thead th {\n",
              "        text-align: right;\n",
              "    }\n",
              "</style>\n",
              "<table border=\"1\" class=\"dataframe\">\n",
              "  <thead>\n",
              "    <tr style=\"text-align: right;\">\n",
              "      <th></th>\n",
              "      <th>PPFD</th>\n",
              "      <th>415</th>\n",
              "      <th>445</th>\n",
              "      <th>480</th>\n",
              "      <th>515</th>\n",
              "      <th>555</th>\n",
              "      <th>590</th>\n",
              "      <th>630</th>\n",
              "      <th>680</th>\n",
              "    </tr>\n",
              "  </thead>\n",
              "  <tbody>\n",
              "    <tr>\n",
              "      <th>0</th>\n",
              "      <td>40</td>\n",
              "      <td>60</td>\n",
              "      <td>282</td>\n",
              "      <td>274</td>\n",
              "      <td>438</td>\n",
              "      <td>659</td>\n",
              "      <td>859</td>\n",
              "      <td>953</td>\n",
              "      <td>465</td>\n",
              "    </tr>\n",
              "    <tr>\n",
              "      <th>1</th>\n",
              "      <td>59</td>\n",
              "      <td>86</td>\n",
              "      <td>404</td>\n",
              "      <td>387</td>\n",
              "      <td>624</td>\n",
              "      <td>939</td>\n",
              "      <td>1219</td>\n",
              "      <td>1357</td>\n",
              "      <td>663</td>\n",
              "    </tr>\n",
              "    <tr>\n",
              "      <th>2</th>\n",
              "      <td>88</td>\n",
              "      <td>127</td>\n",
              "      <td>599</td>\n",
              "      <td>563</td>\n",
              "      <td>919</td>\n",
              "      <td>1384</td>\n",
              "      <td>1791</td>\n",
              "      <td>1998</td>\n",
              "      <td>977</td>\n",
              "    </tr>\n",
              "    <tr>\n",
              "      <th>3</th>\n",
              "      <td>117</td>\n",
              "      <td>170</td>\n",
              "      <td>803</td>\n",
              "      <td>743</td>\n",
              "      <td>1225</td>\n",
              "      <td>1847</td>\n",
              "      <td>2383</td>\n",
              "      <td>2662</td>\n",
              "      <td>1304</td>\n",
              "    </tr>\n",
              "    <tr>\n",
              "      <th>4</th>\n",
              "      <td>144</td>\n",
              "      <td>209</td>\n",
              "      <td>984</td>\n",
              "      <td>902</td>\n",
              "      <td>1495</td>\n",
              "      <td>2254</td>\n",
              "      <td>2901</td>\n",
              "      <td>3240</td>\n",
              "      <td>1591</td>\n",
              "    </tr>\n",
              "  </tbody>\n",
              "</table>\n",
              "</div>\n",
              "      <button class=\"colab-df-convert\" onclick=\"convertToInteractive('df-ff592ee7-132c-4f57-9248-0fdab5b66d55')\"\n",
              "              title=\"Convert this dataframe to an interactive table.\"\n",
              "              style=\"display:none;\">\n",
              "        \n",
              "  <svg xmlns=\"http://www.w3.org/2000/svg\" height=\"24px\"viewBox=\"0 0 24 24\"\n",
              "       width=\"24px\">\n",
              "    <path d=\"M0 0h24v24H0V0z\" fill=\"none\"/>\n",
              "    <path d=\"M18.56 5.44l.94 2.06.94-2.06 2.06-.94-2.06-.94-.94-2.06-.94 2.06-2.06.94zm-11 1L8.5 8.5l.94-2.06 2.06-.94-2.06-.94L8.5 2.5l-.94 2.06-2.06.94zm10 10l.94 2.06.94-2.06 2.06-.94-2.06-.94-.94-2.06-.94 2.06-2.06.94z\"/><path d=\"M17.41 7.96l-1.37-1.37c-.4-.4-.92-.59-1.43-.59-.52 0-1.04.2-1.43.59L10.3 9.45l-7.72 7.72c-.78.78-.78 2.05 0 2.83L4 21.41c.39.39.9.59 1.41.59.51 0 1.02-.2 1.41-.59l7.78-7.78 2.81-2.81c.8-.78.8-2.07 0-2.86zM5.41 20L4 18.59l7.72-7.72 1.47 1.35L5.41 20z\"/>\n",
              "  </svg>\n",
              "      </button>\n",
              "      \n",
              "  <style>\n",
              "    .colab-df-container {\n",
              "      display:flex;\n",
              "      flex-wrap:wrap;\n",
              "      gap: 12px;\n",
              "    }\n",
              "\n",
              "    .colab-df-convert {\n",
              "      background-color: #E8F0FE;\n",
              "      border: none;\n",
              "      border-radius: 50%;\n",
              "      cursor: pointer;\n",
              "      display: none;\n",
              "      fill: #1967D2;\n",
              "      height: 32px;\n",
              "      padding: 0 0 0 0;\n",
              "      width: 32px;\n",
              "    }\n",
              "\n",
              "    .colab-df-convert:hover {\n",
              "      background-color: #E2EBFA;\n",
              "      box-shadow: 0px 1px 2px rgba(60, 64, 67, 0.3), 0px 1px 3px 1px rgba(60, 64, 67, 0.15);\n",
              "      fill: #174EA6;\n",
              "    }\n",
              "\n",
              "    [theme=dark] .colab-df-convert {\n",
              "      background-color: #3B4455;\n",
              "      fill: #D2E3FC;\n",
              "    }\n",
              "\n",
              "    [theme=dark] .colab-df-convert:hover {\n",
              "      background-color: #434B5C;\n",
              "      box-shadow: 0px 1px 3px 1px rgba(0, 0, 0, 0.15);\n",
              "      filter: drop-shadow(0px 1px 2px rgba(0, 0, 0, 0.3));\n",
              "      fill: #FFFFFF;\n",
              "    }\n",
              "  </style>\n",
              "\n",
              "      <script>\n",
              "        const buttonEl =\n",
              "          document.querySelector('#df-ff592ee7-132c-4f57-9248-0fdab5b66d55 button.colab-df-convert');\n",
              "        buttonEl.style.display =\n",
              "          google.colab.kernel.accessAllowed ? 'block' : 'none';\n",
              "\n",
              "        async function convertToInteractive(key) {\n",
              "          const element = document.querySelector('#df-ff592ee7-132c-4f57-9248-0fdab5b66d55');\n",
              "          const dataTable =\n",
              "            await google.colab.kernel.invokeFunction('convertToInteractive',\n",
              "                                                     [key], {});\n",
              "          if (!dataTable) return;\n",
              "\n",
              "          const docLinkHtml = 'Like what you see? Visit the ' +\n",
              "            '<a target=\"_blank\" href=https://colab.research.google.com/notebooks/data_table.ipynb>data table notebook</a>'\n",
              "            + ' to learn more about interactive tables.';\n",
              "          element.innerHTML = '';\n",
              "          dataTable['output_type'] = 'display_data';\n",
              "          await google.colab.output.renderOutput(dataTable, element);\n",
              "          const docLink = document.createElement('div');\n",
              "          docLink.innerHTML = docLinkHtml;\n",
              "          element.appendChild(docLink);\n",
              "        }\n",
              "      </script>\n",
              "    </div>\n",
              "  </div>\n",
              "  "
            ],
            "text/plain": [
              "   PPFD  415  445  480   515   555   590   630   680\n",
              "0    40   60  282  274   438   659   859   953   465\n",
              "1    59   86  404  387   624   939  1219  1357   663\n",
              "2    88  127  599  563   919  1384  1791  1998   977\n",
              "3   117  170  803  743  1225  1847  2383  2662  1304\n",
              "4   144  209  984  902  1495  2254  2901  3240  1591"
            ]
          },
          "metadata": {},
          "execution_count": 58
        }
      ]
    },
    {
      "cell_type": "markdown",
      "source": [
        "# Visualize"
      ],
      "metadata": {
        "id": "73K2OO6XWZM0"
      }
    },
    {
      "cell_type": "markdown",
      "source": [
        "Please see the visualization of readings_white and the other samples in the [MLR notebook](https://github.com/solarslurpi/GrowBuddy/blob/main/notebooks/PAR_Buddy_mlr.ipynb)"
      ],
      "metadata": {
        "id": "dmizu51wWcmg"
      }
    },
    {
      "cell_type": "markdown",
      "source": [
        "# CREATE TESTING AND TRAINING DATASET (80% Train / 20% Test)"
      ],
      "metadata": {
        "id": "SGi-HEjRW2JI"
      }
    },
    {
      "cell_type": "code",
      "source": [
        "y = readings_white['PPFD']\n",
        "x = readings_white.iloc[:,1:]\n",
        "print(f'shape of x: {x.shape} shape of y: {y.shape}')\n",
        "readings_white.head(5)"
      ],
      "metadata": {
        "colab": {
          "base_uri": "https://localhost:8080/",
          "height": 224
        },
        "id": "An65m5XSW5jS",
        "outputId": "d5582dc3-a0a6-49ea-c6fc-1b871175fba7"
      },
      "execution_count": 59,
      "outputs": [
        {
          "output_type": "stream",
          "name": "stdout",
          "text": [
            "shape of x: (74, 8) shape of y: (74,)\n"
          ]
        },
        {
          "output_type": "execute_result",
          "data": {
            "text/html": [
              "\n",
              "  <div id=\"df-7a49291a-3126-4a10-a1c1-abb129ccc030\">\n",
              "    <div class=\"colab-df-container\">\n",
              "      <div>\n",
              "<style scoped>\n",
              "    .dataframe tbody tr th:only-of-type {\n",
              "        vertical-align: middle;\n",
              "    }\n",
              "\n",
              "    .dataframe tbody tr th {\n",
              "        vertical-align: top;\n",
              "    }\n",
              "\n",
              "    .dataframe thead th {\n",
              "        text-align: right;\n",
              "    }\n",
              "</style>\n",
              "<table border=\"1\" class=\"dataframe\">\n",
              "  <thead>\n",
              "    <tr style=\"text-align: right;\">\n",
              "      <th></th>\n",
              "      <th>PPFD</th>\n",
              "      <th>415</th>\n",
              "      <th>445</th>\n",
              "      <th>480</th>\n",
              "      <th>515</th>\n",
              "      <th>555</th>\n",
              "      <th>590</th>\n",
              "      <th>630</th>\n",
              "      <th>680</th>\n",
              "    </tr>\n",
              "  </thead>\n",
              "  <tbody>\n",
              "    <tr>\n",
              "      <th>0</th>\n",
              "      <td>40</td>\n",
              "      <td>60</td>\n",
              "      <td>282</td>\n",
              "      <td>274</td>\n",
              "      <td>438</td>\n",
              "      <td>659</td>\n",
              "      <td>859</td>\n",
              "      <td>953</td>\n",
              "      <td>465</td>\n",
              "    </tr>\n",
              "    <tr>\n",
              "      <th>1</th>\n",
              "      <td>59</td>\n",
              "      <td>86</td>\n",
              "      <td>404</td>\n",
              "      <td>387</td>\n",
              "      <td>624</td>\n",
              "      <td>939</td>\n",
              "      <td>1219</td>\n",
              "      <td>1357</td>\n",
              "      <td>663</td>\n",
              "    </tr>\n",
              "    <tr>\n",
              "      <th>2</th>\n",
              "      <td>88</td>\n",
              "      <td>127</td>\n",
              "      <td>599</td>\n",
              "      <td>563</td>\n",
              "      <td>919</td>\n",
              "      <td>1384</td>\n",
              "      <td>1791</td>\n",
              "      <td>1998</td>\n",
              "      <td>977</td>\n",
              "    </tr>\n",
              "    <tr>\n",
              "      <th>3</th>\n",
              "      <td>117</td>\n",
              "      <td>170</td>\n",
              "      <td>803</td>\n",
              "      <td>743</td>\n",
              "      <td>1225</td>\n",
              "      <td>1847</td>\n",
              "      <td>2383</td>\n",
              "      <td>2662</td>\n",
              "      <td>1304</td>\n",
              "    </tr>\n",
              "    <tr>\n",
              "      <th>4</th>\n",
              "      <td>144</td>\n",
              "      <td>209</td>\n",
              "      <td>984</td>\n",
              "      <td>902</td>\n",
              "      <td>1495</td>\n",
              "      <td>2254</td>\n",
              "      <td>2901</td>\n",
              "      <td>3240</td>\n",
              "      <td>1591</td>\n",
              "    </tr>\n",
              "  </tbody>\n",
              "</table>\n",
              "</div>\n",
              "      <button class=\"colab-df-convert\" onclick=\"convertToInteractive('df-7a49291a-3126-4a10-a1c1-abb129ccc030')\"\n",
              "              title=\"Convert this dataframe to an interactive table.\"\n",
              "              style=\"display:none;\">\n",
              "        \n",
              "  <svg xmlns=\"http://www.w3.org/2000/svg\" height=\"24px\"viewBox=\"0 0 24 24\"\n",
              "       width=\"24px\">\n",
              "    <path d=\"M0 0h24v24H0V0z\" fill=\"none\"/>\n",
              "    <path d=\"M18.56 5.44l.94 2.06.94-2.06 2.06-.94-2.06-.94-.94-2.06-.94 2.06-2.06.94zm-11 1L8.5 8.5l.94-2.06 2.06-.94-2.06-.94L8.5 2.5l-.94 2.06-2.06.94zm10 10l.94 2.06.94-2.06 2.06-.94-2.06-.94-.94-2.06-.94 2.06-2.06.94z\"/><path d=\"M17.41 7.96l-1.37-1.37c-.4-.4-.92-.59-1.43-.59-.52 0-1.04.2-1.43.59L10.3 9.45l-7.72 7.72c-.78.78-.78 2.05 0 2.83L4 21.41c.39.39.9.59 1.41.59.51 0 1.02-.2 1.41-.59l7.78-7.78 2.81-2.81c.8-.78.8-2.07 0-2.86zM5.41 20L4 18.59l7.72-7.72 1.47 1.35L5.41 20z\"/>\n",
              "  </svg>\n",
              "      </button>\n",
              "      \n",
              "  <style>\n",
              "    .colab-df-container {\n",
              "      display:flex;\n",
              "      flex-wrap:wrap;\n",
              "      gap: 12px;\n",
              "    }\n",
              "\n",
              "    .colab-df-convert {\n",
              "      background-color: #E8F0FE;\n",
              "      border: none;\n",
              "      border-radius: 50%;\n",
              "      cursor: pointer;\n",
              "      display: none;\n",
              "      fill: #1967D2;\n",
              "      height: 32px;\n",
              "      padding: 0 0 0 0;\n",
              "      width: 32px;\n",
              "    }\n",
              "\n",
              "    .colab-df-convert:hover {\n",
              "      background-color: #E2EBFA;\n",
              "      box-shadow: 0px 1px 2px rgba(60, 64, 67, 0.3), 0px 1px 3px 1px rgba(60, 64, 67, 0.15);\n",
              "      fill: #174EA6;\n",
              "    }\n",
              "\n",
              "    [theme=dark] .colab-df-convert {\n",
              "      background-color: #3B4455;\n",
              "      fill: #D2E3FC;\n",
              "    }\n",
              "\n",
              "    [theme=dark] .colab-df-convert:hover {\n",
              "      background-color: #434B5C;\n",
              "      box-shadow: 0px 1px 3px 1px rgba(0, 0, 0, 0.15);\n",
              "      filter: drop-shadow(0px 1px 2px rgba(0, 0, 0, 0.3));\n",
              "      fill: #FFFFFF;\n",
              "    }\n",
              "  </style>\n",
              "\n",
              "      <script>\n",
              "        const buttonEl =\n",
              "          document.querySelector('#df-7a49291a-3126-4a10-a1c1-abb129ccc030 button.colab-df-convert');\n",
              "        buttonEl.style.display =\n",
              "          google.colab.kernel.accessAllowed ? 'block' : 'none';\n",
              "\n",
              "        async function convertToInteractive(key) {\n",
              "          const element = document.querySelector('#df-7a49291a-3126-4a10-a1c1-abb129ccc030');\n",
              "          const dataTable =\n",
              "            await google.colab.kernel.invokeFunction('convertToInteractive',\n",
              "                                                     [key], {});\n",
              "          if (!dataTable) return;\n",
              "\n",
              "          const docLinkHtml = 'Like what you see? Visit the ' +\n",
              "            '<a target=\"_blank\" href=https://colab.research.google.com/notebooks/data_table.ipynb>data table notebook</a>'\n",
              "            + ' to learn more about interactive tables.';\n",
              "          element.innerHTML = '';\n",
              "          dataTable['output_type'] = 'display_data';\n",
              "          await google.colab.output.renderOutput(dataTable, element);\n",
              "          const docLink = document.createElement('div');\n",
              "          docLink.innerHTML = docLinkHtml;\n",
              "          element.appendChild(docLink);\n",
              "        }\n",
              "      </script>\n",
              "    </div>\n",
              "  </div>\n",
              "  "
            ],
            "text/plain": [
              "   PPFD  415  445  480   515   555   590   630   680\n",
              "0    40   60  282  274   438   659   859   953   465\n",
              "1    59   86  404  387   624   939  1219  1357   663\n",
              "2    88  127  599  563   919  1384  1791  1998   977\n",
              "3   117  170  803  743  1225  1847  2383  2662  1304\n",
              "4   144  209  984  902  1495  2254  2901  3240  1591"
            ]
          },
          "metadata": {},
          "execution_count": 59
        }
      ]
    },
    {
      "cell_type": "markdown",
      "source": [
        "# NORMALIZE THE DATA"
      ],
      "metadata": {
        "id": "9nLLzzqVXFUH"
      }
    },
    {
      "cell_type": "code",
      "source": [
        "from sklearn.preprocessing import MinMaxScaler\n",
        "scaler = MinMaxScaler()\n",
        "x_scaled = scaler.fit_transform(x)\n",
        "y = y.values.reshape(-1,1)\n",
        "y_scaled = scaler.fit_transform(y)"
      ],
      "metadata": {
        "id": "PtAVOOb5W84L"
      },
      "execution_count": 60,
      "outputs": []
    },
    {
      "cell_type": "markdown",
      "source": [
        "# SPLIT DATA INTO TRAIN AND TEST"
      ],
      "metadata": {
        "id": "mKU2gDk3Xp8i"
      }
    },
    {
      "cell_type": "code",
      "source": [
        "from sklearn.model_selection import train_test_split\n",
        "x_train,x_test,y_train,y_test = train_test_split(x_scaled,y_scaled,test_size=0.2)"
      ],
      "metadata": {
        "id": "-Ek8naCRXJ2f"
      },
      "execution_count": 61,
      "outputs": []
    },
    {
      "cell_type": "code",
      "source": [
        "print(f\"There are {len(x_train)+len(x_test)} total samples. {len(x_train)} samples are in the training set and {len(x_test)} samples are in the test set.\")"
      ],
      "metadata": {
        "colab": {
          "base_uri": "https://localhost:8080/"
        },
        "id": "A3t1YLesXOMb",
        "outputId": "c0e55b05-aab5-4fb6-84d3-a9d04d7efae0"
      },
      "execution_count": 62,
      "outputs": [
        {
          "output_type": "stream",
          "name": "stdout",
          "text": [
            "There are 74 total samples. 59 samples are in the training set and 15 samples are in the test set.\n"
          ]
        }
      ]
    },
    {
      "cell_type": "markdown",
      "source": [
        "# TRAIN MODEL"
      ],
      "metadata": {
        "id": "d22FdIbZXvDX"
      }
    },
    {
      "cell_type": "code",
      "source": [
        "import tensorflow.keras\n",
        "from keras.models import Sequential\n",
        "from keras.layers import Dense\n",
        "\n",
        "model = Sequential()\n",
        "model.add(Dense(50,input_dim=8, activation='relu'))\n",
        "model.add(Dense(100,activation='relu'))\n",
        "#model.add(Dense(100,activation='relu'))\n",
        "model.add(Dense(1,activation='linear'))\n",
        "model.summary()"
      ],
      "metadata": {
        "colab": {
          "base_uri": "https://localhost:8080/"
        },
        "id": "5DmgmuOOX799",
        "outputId": "2d1042e7-6fe5-4368-f9aa-dea8417c50a8"
      },
      "execution_count": 63,
      "outputs": [
        {
          "output_type": "stream",
          "name": "stdout",
          "text": [
            "Model: \"sequential_4\"\n",
            "_________________________________________________________________\n",
            " Layer (type)                Output Shape              Param #   \n",
            "=================================================================\n",
            " dense_12 (Dense)            (None, 50)                450       \n",
            "                                                                 \n",
            " dense_13 (Dense)            (None, 100)               5100      \n",
            "                                                                 \n",
            " dense_14 (Dense)            (None, 1)                 101       \n",
            "                                                                 \n",
            "=================================================================\n",
            "Total params: 5,651\n",
            "Trainable params: 5,651\n",
            "Non-trainable params: 0\n",
            "_________________________________________________________________\n"
          ]
        }
      ]
    },
    {
      "cell_type": "code",
      "source": [
        "model.compile(optimizer='Adam',loss='mean_squared_error')"
      ],
      "metadata": {
        "id": "___7OWq5X_2K"
      },
      "execution_count": 64,
      "outputs": []
    },
    {
      "cell_type": "code",
      "source": [
        "epochs_hist = model.fit(x_train,y_train,epochs=100,batch_size=50,validation_split=0.2)"
      ],
      "metadata": {
        "colab": {
          "base_uri": "https://localhost:8080/"
        },
        "id": "wip1bVrIYDLx",
        "outputId": "e9860966-9e51-430c-bb22-6c138a1c2041"
      },
      "execution_count": 65,
      "outputs": [
        {
          "output_type": "stream",
          "name": "stdout",
          "text": [
            "Epoch 1/100\n",
            "1/1 [==============================] - 1s 552ms/step - loss: 0.1036 - val_loss: 0.1261\n",
            "Epoch 2/100\n",
            "1/1 [==============================] - 0s 28ms/step - loss: 0.0777 - val_loss: 0.0952\n",
            "Epoch 3/100\n",
            "1/1 [==============================] - 0s 29ms/step - loss: 0.0559 - val_loss: 0.0698\n",
            "Epoch 4/100\n",
            "1/1 [==============================] - 0s 29ms/step - loss: 0.0385 - val_loss: 0.0497\n",
            "Epoch 5/100\n",
            "1/1 [==============================] - 0s 37ms/step - loss: 0.0251 - val_loss: 0.0341\n",
            "Epoch 6/100\n",
            "1/1 [==============================] - 0s 31ms/step - loss: 0.0152 - val_loss: 0.0227\n",
            "Epoch 7/100\n",
            "1/1 [==============================] - 0s 37ms/step - loss: 0.0086 - val_loss: 0.0150\n",
            "Epoch 8/100\n",
            "1/1 [==============================] - 0s 34ms/step - loss: 0.0048 - val_loss: 0.0106\n",
            "Epoch 9/100\n",
            "1/1 [==============================] - 0s 29ms/step - loss: 0.0035 - val_loss: 0.0088\n",
            "Epoch 10/100\n",
            "1/1 [==============================] - 0s 29ms/step - loss: 0.0040 - val_loss: 0.0088\n",
            "Epoch 11/100\n",
            "1/1 [==============================] - 0s 28ms/step - loss: 0.0055 - val_loss: 0.0097\n",
            "Epoch 12/100\n",
            "1/1 [==============================] - 0s 30ms/step - loss: 0.0075 - val_loss: 0.0107\n",
            "Epoch 13/100\n",
            "1/1 [==============================] - 0s 33ms/step - loss: 0.0091 - val_loss: 0.0115\n",
            "Epoch 14/100\n",
            "1/1 [==============================] - 0s 25ms/step - loss: 0.0102 - val_loss: 0.0117\n",
            "Epoch 15/100\n",
            "1/1 [==============================] - 0s 28ms/step - loss: 0.0105 - val_loss: 0.0113\n",
            "Epoch 16/100\n",
            "1/1 [==============================] - 0s 29ms/step - loss: 0.0101 - val_loss: 0.0105\n",
            "Epoch 17/100\n",
            "1/1 [==============================] - 0s 26ms/step - loss: 0.0091 - val_loss: 0.0094\n",
            "Epoch 18/100\n",
            "1/1 [==============================] - 0s 32ms/step - loss: 0.0078 - val_loss: 0.0083\n",
            "Epoch 19/100\n",
            "1/1 [==============================] - 0s 35ms/step - loss: 0.0063 - val_loss: 0.0074\n",
            "Epoch 20/100\n",
            "1/1 [==============================] - 0s 30ms/step - loss: 0.0048 - val_loss: 0.0067\n",
            "Epoch 21/100\n",
            "1/1 [==============================] - 0s 30ms/step - loss: 0.0035 - val_loss: 0.0065\n",
            "Epoch 22/100\n",
            "1/1 [==============================] - 0s 30ms/step - loss: 0.0025 - val_loss: 0.0069\n",
            "Epoch 23/100\n",
            "1/1 [==============================] - 0s 29ms/step - loss: 0.0020 - val_loss: 0.0076\n",
            "Epoch 24/100\n",
            "1/1 [==============================] - 0s 35ms/step - loss: 0.0018 - val_loss: 0.0087\n",
            "Epoch 25/100\n",
            "1/1 [==============================] - 0s 38ms/step - loss: 0.0020 - val_loss: 0.0098\n",
            "Epoch 26/100\n",
            "1/1 [==============================] - 0s 32ms/step - loss: 0.0024 - val_loss: 0.0108\n",
            "Epoch 27/100\n",
            "1/1 [==============================] - 0s 29ms/step - loss: 0.0029 - val_loss: 0.0115\n",
            "Epoch 28/100\n",
            "1/1 [==============================] - 0s 27ms/step - loss: 0.0032 - val_loss: 0.0117\n",
            "Epoch 29/100\n",
            "1/1 [==============================] - 0s 29ms/step - loss: 0.0033 - val_loss: 0.0114\n",
            "Epoch 30/100\n",
            "1/1 [==============================] - 0s 26ms/step - loss: 0.0032 - val_loss: 0.0109\n",
            "Epoch 31/100\n",
            "1/1 [==============================] - 0s 28ms/step - loss: 0.0029 - val_loss: 0.0101\n",
            "Epoch 32/100\n",
            "1/1 [==============================] - 0s 29ms/step - loss: 0.0026 - val_loss: 0.0093\n",
            "Epoch 33/100\n",
            "1/1 [==============================] - 0s 28ms/step - loss: 0.0022 - val_loss: 0.0085\n",
            "Epoch 34/100\n",
            "1/1 [==============================] - 0s 31ms/step - loss: 0.0019 - val_loss: 0.0078\n",
            "Epoch 35/100\n",
            "1/1 [==============================] - 0s 26ms/step - loss: 0.0017 - val_loss: 0.0072\n",
            "Epoch 36/100\n",
            "1/1 [==============================] - 0s 26ms/step - loss: 0.0015 - val_loss: 0.0067\n",
            "Epoch 37/100\n",
            "1/1 [==============================] - 0s 38ms/step - loss: 0.0014 - val_loss: 0.0063\n",
            "Epoch 38/100\n",
            "1/1 [==============================] - 0s 30ms/step - loss: 0.0014 - val_loss: 0.0059\n",
            "Epoch 39/100\n",
            "1/1 [==============================] - 0s 34ms/step - loss: 0.0014 - val_loss: 0.0057\n",
            "Epoch 40/100\n",
            "1/1 [==============================] - 0s 36ms/step - loss: 0.0015 - val_loss: 0.0055\n",
            "Epoch 41/100\n",
            "1/1 [==============================] - 0s 29ms/step - loss: 0.0015 - val_loss: 0.0053\n",
            "Epoch 42/100\n",
            "1/1 [==============================] - 0s 27ms/step - loss: 0.0015 - val_loss: 0.0052\n",
            "Epoch 43/100\n",
            "1/1 [==============================] - 0s 27ms/step - loss: 0.0015 - val_loss: 0.0052\n",
            "Epoch 44/100\n",
            "1/1 [==============================] - 0s 29ms/step - loss: 0.0015 - val_loss: 0.0051\n",
            "Epoch 45/100\n",
            "1/1 [==============================] - 0s 27ms/step - loss: 0.0015 - val_loss: 0.0051\n",
            "Epoch 46/100\n",
            "1/1 [==============================] - 0s 31ms/step - loss: 0.0014 - val_loss: 0.0051\n",
            "Epoch 47/100\n",
            "1/1 [==============================] - 0s 33ms/step - loss: 0.0013 - val_loss: 0.0052\n",
            "Epoch 48/100\n",
            "1/1 [==============================] - 0s 29ms/step - loss: 0.0012 - val_loss: 0.0052\n",
            "Epoch 49/100\n",
            "1/1 [==============================] - 0s 27ms/step - loss: 0.0012 - val_loss: 0.0053\n",
            "Epoch 50/100\n",
            "1/1 [==============================] - 0s 42ms/step - loss: 0.0011 - val_loss: 0.0055\n",
            "Epoch 51/100\n",
            "1/1 [==============================] - 0s 31ms/step - loss: 0.0011 - val_loss: 0.0056\n",
            "Epoch 52/100\n",
            "1/1 [==============================] - 0s 25ms/step - loss: 0.0011 - val_loss: 0.0057\n",
            "Epoch 53/100\n",
            "1/1 [==============================] - 0s 35ms/step - loss: 0.0011 - val_loss: 0.0058\n",
            "Epoch 54/100\n",
            "1/1 [==============================] - 0s 32ms/step - loss: 0.0011 - val_loss: 0.0059\n",
            "Epoch 55/100\n",
            "1/1 [==============================] - 0s 30ms/step - loss: 0.0011 - val_loss: 0.0059\n",
            "Epoch 56/100\n",
            "1/1 [==============================] - 0s 31ms/step - loss: 0.0011 - val_loss: 0.0059\n",
            "Epoch 57/100\n",
            "1/1 [==============================] - 0s 26ms/step - loss: 0.0011 - val_loss: 0.0058\n",
            "Epoch 58/100\n",
            "1/1 [==============================] - 0s 32ms/step - loss: 0.0011 - val_loss: 0.0057\n",
            "Epoch 59/100\n",
            "1/1 [==============================] - 0s 26ms/step - loss: 0.0010 - val_loss: 0.0056\n",
            "Epoch 60/100\n",
            "1/1 [==============================] - 0s 33ms/step - loss: 0.0010 - val_loss: 0.0055\n",
            "Epoch 61/100\n",
            "1/1 [==============================] - 0s 31ms/step - loss: 9.7713e-04 - val_loss: 0.0054\n",
            "Epoch 62/100\n",
            "1/1 [==============================] - 0s 28ms/step - loss: 9.5027e-04 - val_loss: 0.0052\n",
            "Epoch 63/100\n",
            "1/1 [==============================] - 0s 39ms/step - loss: 9.2672e-04 - val_loss: 0.0051\n",
            "Epoch 64/100\n",
            "1/1 [==============================] - 0s 32ms/step - loss: 9.0943e-04 - val_loss: 0.0049\n",
            "Epoch 65/100\n",
            "1/1 [==============================] - 0s 28ms/step - loss: 8.9868e-04 - val_loss: 0.0048\n",
            "Epoch 66/100\n",
            "1/1 [==============================] - 0s 37ms/step - loss: 8.9390e-04 - val_loss: 0.0048\n",
            "Epoch 67/100\n",
            "1/1 [==============================] - 0s 38ms/step - loss: 8.9176e-04 - val_loss: 0.0047\n",
            "Epoch 68/100\n",
            "1/1 [==============================] - 0s 32ms/step - loss: 8.8985e-04 - val_loss: 0.0046\n",
            "Epoch 69/100\n",
            "1/1 [==============================] - 0s 37ms/step - loss: 8.8637e-04 - val_loss: 0.0046\n",
            "Epoch 70/100\n",
            "1/1 [==============================] - 0s 40ms/step - loss: 8.8024e-04 - val_loss: 0.0046\n",
            "Epoch 71/100\n",
            "1/1 [==============================] - 0s 29ms/step - loss: 8.7144e-04 - val_loss: 0.0046\n",
            "Epoch 72/100\n",
            "1/1 [==============================] - 0s 28ms/step - loss: 8.6156e-04 - val_loss: 0.0046\n",
            "Epoch 73/100\n",
            "1/1 [==============================] - 0s 28ms/step - loss: 8.5140e-04 - val_loss: 0.0046\n",
            "Epoch 74/100\n",
            "1/1 [==============================] - 0s 29ms/step - loss: 8.4245e-04 - val_loss: 0.0046\n",
            "Epoch 75/100\n",
            "1/1 [==============================] - 0s 31ms/step - loss: 8.3521e-04 - val_loss: 0.0047\n",
            "Epoch 76/100\n",
            "1/1 [==============================] - 0s 34ms/step - loss: 8.3001e-04 - val_loss: 0.0047\n",
            "Epoch 77/100\n",
            "1/1 [==============================] - 0s 30ms/step - loss: 8.2659e-04 - val_loss: 0.0047\n",
            "Epoch 78/100\n",
            "1/1 [==============================] - 0s 32ms/step - loss: 8.2433e-04 - val_loss: 0.0047\n",
            "Epoch 79/100\n",
            "1/1 [==============================] - 0s 28ms/step - loss: 8.2211e-04 - val_loss: 0.0047\n",
            "Epoch 80/100\n",
            "1/1 [==============================] - 0s 29ms/step - loss: 8.1885e-04 - val_loss: 0.0047\n",
            "Epoch 81/100\n",
            "1/1 [==============================] - 0s 28ms/step - loss: 8.1419e-04 - val_loss: 0.0047\n",
            "Epoch 82/100\n",
            "1/1 [==============================] - 0s 34ms/step - loss: 8.0874e-04 - val_loss: 0.0046\n",
            "Epoch 83/100\n",
            "1/1 [==============================] - 0s 31ms/step - loss: 8.0224e-04 - val_loss: 0.0046\n",
            "Epoch 84/100\n",
            "1/1 [==============================] - 0s 39ms/step - loss: 7.9648e-04 - val_loss: 0.0045\n",
            "Epoch 85/100\n",
            "1/1 [==============================] - 0s 33ms/step - loss: 7.9218e-04 - val_loss: 0.0045\n",
            "Epoch 86/100\n",
            "1/1 [==============================] - 0s 28ms/step - loss: 7.8857e-04 - val_loss: 0.0045\n",
            "Epoch 87/100\n",
            "1/1 [==============================] - 0s 31ms/step - loss: 7.8526e-04 - val_loss: 0.0044\n",
            "Epoch 88/100\n",
            "1/1 [==============================] - 0s 27ms/step - loss: 7.8144e-04 - val_loss: 0.0044\n",
            "Epoch 89/100\n",
            "1/1 [==============================] - 0s 31ms/step - loss: 7.7482e-04 - val_loss: 0.0044\n",
            "Epoch 90/100\n",
            "1/1 [==============================] - 0s 30ms/step - loss: 7.6757e-04 - val_loss: 0.0044\n",
            "Epoch 91/100\n",
            "1/1 [==============================] - 0s 28ms/step - loss: 7.6355e-04 - val_loss: 0.0044\n",
            "Epoch 92/100\n",
            "1/1 [==============================] - 0s 27ms/step - loss: 7.5897e-04 - val_loss: 0.0044\n",
            "Epoch 93/100\n",
            "1/1 [==============================] - 0s 32ms/step - loss: 7.5374e-04 - val_loss: 0.0044\n",
            "Epoch 94/100\n",
            "1/1 [==============================] - 0s 35ms/step - loss: 7.4832e-04 - val_loss: 0.0044\n",
            "Epoch 95/100\n",
            "1/1 [==============================] - 0s 36ms/step - loss: 7.4369e-04 - val_loss: 0.0044\n",
            "Epoch 96/100\n",
            "1/1 [==============================] - 0s 29ms/step - loss: 7.3944e-04 - val_loss: 0.0044\n",
            "Epoch 97/100\n",
            "1/1 [==============================] - 0s 31ms/step - loss: 7.3478e-04 - val_loss: 0.0043\n",
            "Epoch 98/100\n",
            "1/1 [==============================] - 0s 30ms/step - loss: 7.2991e-04 - val_loss: 0.0043\n",
            "Epoch 99/100\n",
            "1/1 [==============================] - 0s 32ms/step - loss: 7.2507e-04 - val_loss: 0.0043\n",
            "Epoch 100/100\n",
            "1/1 [==============================] - 0s 27ms/step - loss: 7.2238e-04 - val_loss: 0.0043\n"
          ]
        }
      ]
    },
    {
      "cell_type": "markdown",
      "source": [
        "# EVALUATE MODEL"
      ],
      "metadata": {
        "id": "t0ipUXvRYHMb"
      }
    },
    {
      "cell_type": "code",
      "source": [
        "epochs_hist.history.keys()\n",
        "plt.plot(epochs_hist.history['loss'])\n",
        "plt.plot(epochs_hist.history['val_loss'])\n",
        "plt.title('Model Loss Progress During Training')\n",
        "plt.xlabel('Epoch')\n",
        "plt.ylabel('training and validation loss')\n",
        "plt.legend(['Training Loss','Validation Loss'])"
      ],
      "metadata": {
        "colab": {
          "base_uri": "https://localhost:8080/",
          "height": 313
        },
        "id": "CTFTbxZmYKRp",
        "outputId": "286a1716-875f-4b4f-a6db-6329692730df"
      },
      "execution_count": 71,
      "outputs": [
        {
          "output_type": "execute_result",
          "data": {
            "text/plain": [
              "<matplotlib.legend.Legend at 0x7efb59a8bf50>"
            ]
          },
          "metadata": {},
          "execution_count": 71
        },
        {
          "output_type": "display_data",
          "data": {
            "image/png": "[encoded data removed]",
            "text/plain": [
              "<Figure size 432x288 with 1 Axes>"
            ]
          },
          "metadata": {
            "needs_background": "light"
          }
        }
      ]
    },
    {
      "cell_type": "code",
      "source": [
        "y_predict = model.predict(x_test)"
      ],
      "metadata": {
        "id": "CVfWywjWYWel"
      },
      "execution_count": 72,
      "outputs": []
    },
    {
      "cell_type": "code",
      "source": [
        "x_test_orig = scaler.inverse_transform(x_test)\n",
        "y_test_orig = scaler.inverse_transform(y_test)\n",
        "y_predict_orig = scaler.inverse_transform(y_predict)"
      ],
      "metadata": {
        "id": "Zg5yY54hZwvT"
      },
      "execution_count": 73,
      "outputs": []
    },
    {
      "cell_type": "code",
      "source": [
        "plt.plot(y_test_orig,y_predict_orig,'*',color='g')\n",
        "plt.xlabel('Model Predictions')\n",
        "plt.ylabel('True Values')"
      ],
      "metadata": {
        "colab": {
          "base_uri": "https://localhost:8080/",
          "height": 296
        },
        "id": "LM47E6SoYXtV",
        "outputId": "50a4b938-e412-46b7-e705-eed3cc0625ad"
      },
      "execution_count": 74,
      "outputs": [
        {
          "output_type": "execute_result",
          "data": {
            "text/plain": [
              "Text(0, 0.5, 'True Values')"
            ]
          },
          "metadata": {},
          "execution_count": 74
        },
        {
          "output_type": "display_data",
          "data": {
            "image/png": "[encoded data removed]",
            "text/plain": [
              "<Figure size 432x288 with 1 Axes>"
            ]
          },
          "metadata": {
            "needs_background": "light"
          }
        }
      ]
    },
    {
      "cell_type": "code",
      "source": [
        "from sklearn.metrics import r2_score,mean_absolute_error,mean_squared_error\n",
        "from math import sqrt\n",
        "# r2 is the percentage of dependent variable variation that the (linear) model explains. 0% means there is\n",
        "# no relationship. 100% means a perfect relationship.\n",
        "y_test_orig \n",
        "r2 = r2_score(y_test_orig,y_predict_orig)\n",
        "# Root Mean Square Error (RMSE) is the standard deviation of the residuals (prediction errors). \n",
        "# It tells you how concentrated the data is around the line of best fit.\n",
        "# RMSE units is the same as PPFD units, so they are easy to interpret.\n",
        "RMSE = float(format(np.sqrt(mean_squared_error(y_test_orig,y_predict_orig)),'.3F'))\n",
        "\n",
        "print('RMSE = ',RMSE,'\\nr2 = ',r2)"
      ],
      "metadata": {
        "colab": {
          "base_uri": "https://localhost:8080/"
        },
        "id": "VNXXR3CtZYuU",
        "outputId": "4b2b7469-a6e6-497f-d5a1-083d1928f479"
      },
      "execution_count": 75,
      "outputs": [
        {
          "output_type": "stream",
          "name": "stdout",
          "text": [
            "RMSE =  65.385 \n",
            "r2 =  0.987169323567013\n"
          ]
        }
      ]
    }
  ]
}